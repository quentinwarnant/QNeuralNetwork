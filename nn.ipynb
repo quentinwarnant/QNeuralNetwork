{
 "cells": [
  {
   "cell_type": "code",
   "execution_count": 194,
   "metadata": {},
   "outputs": [],
   "source": [
    "import numpy\n",
    "import matplotlib.pyplot\n",
    "%matplotlib inline\n",
    "# contains sigmoid function\n",
    "import scipy.special\n",
    "\n"
   ]
  },
  {
   "cell_type": "code",
   "execution_count": 195,
   "metadata": {},
   "outputs": [],
   "source": [
    "class NeuralNetwork:\n",
    "    def __init__(self, inputnodes, hiddennodes, outputnodes, learningrate) -> None:\n",
    "        self.inodes = inputnodes\n",
    "        self.hnodes = hiddennodes\n",
    "        self.onodes = outputnodes\n",
    "\n",
    "        #learning rate\n",
    "        self.lr = learningrate\n",
    "\n",
    "        # link weight matrices wih (weights in to hidden layer) and who (weights hidden to output layer)\n",
    "        # weights inside the arrays are w_i_j where the link is from the node i to the node j in the next layer\n",
    "        # w11 w21\n",
    "        # w12 w22 etc\n",
    "\n",
    "        # self.wih = (numpy.random.rand(self.hnodes, self.inodes) - 0.5)\n",
    "        # self.who = (numpy.random.rand(self.onodes, self.hnodes) - 0.5)\n",
    "        self.wih = numpy.random.normal( 0.0, pow(self.inodes, -0.5), (self.hnodes , self.inodes))\n",
    "        self.who = numpy.random.normal( 0.0, pow(self.hnodes, -0.5), (self.onodes , self.hnodes))\n",
    "\n",
    "        self.activation_function = lambda x: scipy.special.expit(x)\n",
    "\n",
    "\n",
    "        pass\n",
    "\n",
    "    def train(self, inputs_list, targets_list):\n",
    "        #convert inputs list into 2D array\n",
    "        inputs = numpy.array(inputs_list, ndmin=2).T\n",
    "        targets = numpy.array(targets_list, ndmin=2).T\n",
    "\n",
    "        #calculate signal into hidden layer\n",
    "        hidden_inputs = numpy.dot(self.wih, inputs)\n",
    "        #calculate the signals emerging from the hidden layer\n",
    "        hidden_outputs = self.activation_function(hidden_inputs)\n",
    "\n",
    "        #calculate signals into final output layer\n",
    "        final_inputs = numpy.dot(self.who, hidden_outputs)\n",
    "        #calculate the signals emerging from the final output layer\n",
    "        final_outputs = self.activation_function(final_inputs)\n",
    "\n",
    "        #calculate error (target - actual)\n",
    "        output_errors = targets - final_outputs\n",
    "\n",
    "        # backpropagate errors to hidden layer\n",
    "        hidden_errors = numpy.dot(self.who.T, output_errors)\n",
    "\n",
    "        #to refine the weights between the output & hidden layer, we use \"output_errors\"\n",
    "        self.who += self.lr * numpy.dot( (output_errors * final_outputs * (1.0 - final_outputs)), numpy.transpose(hidden_outputs))\n",
    "        #to refine the weights between the hidden & the input layer, we use \"hidden_errors\"\n",
    "        self.wih += self.lr * numpy.dot((hidden_errors * hidden_outputs * (1.0 - hidden_outputs)), numpy.transpose(inputs))\n",
    "\n",
    "\n",
    "\n",
    "        pass\n",
    "\n",
    "    def query(self, inputs_list):\n",
    "\n",
    "        #convert input list into 2D array\n",
    "        inputs = numpy.array(inputs_list, ndmin=2).T\n",
    "\n",
    "        hidden_inputs = numpy.dot(self.wih, inputs)\n",
    "        hidden_outputs = self.activation_function(hidden_inputs)\n",
    "\n",
    "        final_inputs = numpy.dot(self.who, hidden_outputs)\n",
    "        final_outputs = self.activation_function(final_inputs)\n",
    "        return final_outputs\n"
   ]
  },
  {
   "cell_type": "code",
   "execution_count": 196,
   "metadata": {},
   "outputs": [],
   "source": [
    "input_nodes = 784\n",
    "hidden_nodes = 100\n",
    "output_nodes = 10\n",
    "\n",
    "learning_rate = 0.1\n",
    "\n",
    "n = NeuralNetwork(input_nodes, hidden_nodes, output_nodes, learning_rate)"
   ]
  },
  {
   "cell_type": "code",
   "execution_count": 197,
   "metadata": {},
   "outputs": [],
   "source": [
    "training_data_file = open(\"Data/mnist_train.csv\",'r')\n",
    "training_data_list = training_data_file.readlines()\n",
    "training_data_file.close()"
   ]
  },
  {
   "cell_type": "code",
   "execution_count": 198,
   "metadata": {},
   "outputs": [],
   "source": [
    "#Train the neural network\n",
    "\n",
    "# epics is the number of iterations we go through the training data \n",
    "epochs = 2\n",
    "\n",
    "for e in range(epochs): \n",
    "    #go through all records in the training data set\n",
    "    for record in training_data_list:\n",
    "        #split the record by the ',' commas\n",
    "        all_values = record.split(',')\n",
    "        #scale and shift the inputs\n",
    "        inputs = (numpy.asfarray(all_values[1:]) / 255.0 * 0.99) + 0.01\n",
    "        #create the target output values (all 0.01, except the desired label which is 0.99)\n",
    "        targets = numpy.zeros(output_nodes) + 0.01\n",
    "        # all_values[0] is the target label for this record\n",
    "        targets[int(all_values[0])] = 0.99\n",
    "        n.train(inputs, targets)\n",
    "        pass\n",
    "    pass"
   ]
  },
  {
   "cell_type": "code",
   "execution_count": 207,
   "metadata": {},
   "outputs": [],
   "source": [
    "#load the mnist test data csv file into a list\n",
    "test_data_file = open(\"Data/q_test.csv\", 'r')\n",
    "#test_data_file = open(\"Data/mnist_test_10.csv\", 'r')\n",
    "test_data_list = test_data_file.readlines()\n",
    "test_data_file.close()"
   ]
  },
  {
   "cell_type": "code",
   "execution_count": 208,
   "metadata": {},
   "outputs": [
    {
     "name": "stdout",
     "output_type": "stream",
     "text": [
      "8\n"
     ]
    },
    {
     "data": {
      "text/plain": [
       "<matplotlib.image.AxesImage at 0x19a156b1c10>"
      ]
     },
     "execution_count": 208,
     "metadata": {},
     "output_type": "execute_result"
    },
    {
     "data": {
      "image/png": "[encoded data removed]",
      "text/plain": [
       "<Figure size 640x480 with 1 Axes>"
      ]
     },
     "metadata": {},
     "output_type": "display_data"
    }
   ],
   "source": [
    "#get the first test record\n",
    "testIdx = 2\n",
    "all_values = test_data_list[testIdx].split(',')\n",
    "#print the label\n",
    "print(all_values[0])\n",
    "\n",
    "image_array = numpy.asfarray(all_values[1:]).reshape((28,28))\n",
    "matplotlib.pyplot.imshow(image_array, cmap='Greys', interpolation=None)"
   ]
  },
  {
   "cell_type": "code",
   "execution_count": 209,
   "metadata": {},
   "outputs": [
    {
     "name": "stdout",
     "output_type": "stream",
     "text": [
      "['8', '0', '0', '0', '0', '0', '0', '0', '0', '0', '0', '0', '0', '0', '0', '0', '0', '0', '0', '0', '0', '0', '0', '0', '0', '0', '0', '0', '0', '0', '0', '0', '0', '0', '0', '0', '0', '0', '0', '0', '0', '0', '0', '0', '0', '0', '0', '0', '0', '0', '0', '0', '0', '0', '0', '0', '0', '0', '0', '0', '0', '0', '0', '0', '0', '0', '0', '0', '0', '0', '0', '0', '0', '0', '0', '0', '0', '0', '0', '0', '0', '0', '0', '0', '0', '0', '0', '0', '0', '0', '0', '0', '0', '0', '0', '21', '113', '190', '213', '177', '48', '0', '0', '0', '0', '0', '0', '0', '0', '0', '0', '0', '0', '0', '0', '0', '0', '0', '0', '0', '0', '0', '39', '192', '241', '235', '224', '240', '213', '55', '0', '0', '0', '0', '0', '0', '0', '0', '0', '0', '0', '0', '0', '0', '0', '0', '0', '0', '0', '0', '163', '241', '188', '69', '20', '151', '240', '206', '40', '0', '0', '0', '0', '0', '0', '0', '0', '0', '0', '0', '0', '0', '0', '0', '0', '0', '0', '0', '208', '221', '19', '0', '0', '14', '163', '242', '182', '15', '0', '0', '0', '0', '0', '0', '0', '0', '0', '0', '0', '0', '0', '0', '0', '0', '0', '0', '205', '223', '23', '0', '0', '0', '23', '193', '241', '120', '0', '0', '0', '0', '0', '0', '0', '0', '0', '0', '0', '0', '0', '0', '0', '0', '0', '0', '164', '240', '115', '0', '0', '0', '0', '61', '234', '195', '0', '0', '0', '0', '0', '0', '0', '0', '0', '0', '0', '0', '0', '0', '0', '0', '0', '0', '64', '232', '206', '22', '0', '0', '0', '66', '235', '192', '0', '0', '0', '0', '0', '0', '0', '0', '0', '0', '0', '0', '0', '0', '0', '0', '0', '0', '4', '170', '245', '205', '40', '0', '49', '203', '241', '119', '0', '0', '0', '0', '0', '0', '0', '0', '0', '0', '0', '0', '0', '0', '0', '0', '0', '0', '0', '40', '213', '248', '172', '121', '219', '242', '169', '17', '0', '0', '0', '0', '0', '0', '0', '0', '0', '0', '0', '0', '0', '0', '0', '0', '0', '0', '0', '0', '55', '230', '251', '246', '229', '138', '15', '0', '0', '0', '0', '0', '0', '0', '0', '0', '0', '0', '0', '0', '0', '0', '0', '0', '0', '1', '31', '127', '207', '244', '251', '249', '183', '31', '0', '0', '0', '0', '0', '0', '0', '0', '0', '0', '0', '0', '0', '0', '0', '0', '0', '0', '17', '139', '220', '241', '230', '176', '120', '209', '240', '193', '36', '0', '0', '0', '0', '0', '0', '0', '0', '0', '0', '0', '0', '0', '0', '0', '0', '7', '157', '242', '223', '158', '54', '2', '0', '30', '178', '241', '202', '50', '0', '0', '0', '0', '0', '0', '0', '0', '0', '0', '0', '0', '0', '0', '0', '72', '234', '211', '43', '0', '0', '0', '0', '0', '21', '164', '241', '206', '48', '0', '0', '0', '0', '0', '0', '0', '0', '0', '0', '0', '0', '0', '0', '135', '243', '134', '0', '0', '0', '0', '0', '0', '0', '12', '157', '241', '189', '13', '0', '0', '0', '0', '0', '0', '0', '0', '0', '0', '0', '0', '0', '136', '243', '131', '0', '0', '0', '0', '0', '0', '0', '0', '12', '192', '237', '94', '0', '0', '0', '0', '0', '0', '0', '0', '0', '0', '0', '0', '0', '87', '239', '182', '4', '0', '0', '0', '0', '0', '0', '0', '0', '107', '240', '163', '0', '0', '0', '0', '0', '0', '0', '0', '0', '0', '0', '0', '0', '18', '204', '237', '101', '3', '0', '0', '0', '0', '0', '0', '0', '89', '237', '171', '0', '0', '0', '0', '0', '0', '0', '0', '0', '0', '0', '0', '0', '0', '88', '231', '231', '149', '32', '0', '0', '0', '0', '0', '18', '184', '241', '114', '0', '0', '0', '0', '0', '0', '0', '0', '0', '0', '0', '0', '0', '0', '3', '93', '218', '245', '222', '177', '124', '85', '62', '84', '189', '241', '196', '22', '0', '0', '0', '0', '0', '0', '0', '0', '0', '0', '0', '0', '0', '0', '0', '0', '37', '150', '215', '239', '242', '237', '232', '236', '239', '189', '43', '0', '0', '0', '0', '0', '0', '0', '0', '0', '0', '0', '0', '0', '0', '0', '0', '0', '0', '0', '21', '90', '144', '169', '182', '174', '118', '21', '0', '0', '0', '0', '0', '0', '0', '0', '0', '0', '0', '0', '0', '0', '0', '0', '0', '0', '0', '0', '0', '0', '0', '0', '0', '0', '0', '0', '0', '0', '0', '0', '0', '0', '0', '0', '0', '0', '0', '0', '0', '0', '0', '0', '0', '0', '0', '0', '0', '0', '0', '0', '0', '0', '0', '0', '0', '0', '0', '0', '0', '0', '0', '0', '0', '0', '0', '0', '0', '0', '0', '0', '0', '0', '0', '0', '0', '0', '0', '0', '0', '0', '0', '0', '0', '0', '0', '0', '0', '0', '0', '0', '0\\n']\n",
      "[[0.0152161 ]\n",
      " [0.00665344]\n",
      " [0.01294435]\n",
      " [0.46773687]\n",
      " [0.01693024]\n",
      " [0.0147335 ]\n",
      " [0.00745333]\n",
      " [0.00169279]\n",
      " [0.62964033]\n",
      " [0.00640208]]\n",
      "most likely a: 8\n"
     ]
    }
   ],
   "source": [
    "print(all_values[0:])\n",
    "results = n.query((numpy.asfarray(all_values[1:]) / 255.0 * 0.99) + 0.01)\n",
    "print(results)\n",
    "indexOfMostLikely = numpy.argmax(results)\n",
    "print(\"most likely a: \" + str(indexOfMostLikely))"
   ]
  },
  {
   "cell_type": "code",
   "execution_count": 210,
   "metadata": {},
   "outputs": [
    {
     "name": "stdout",
     "output_type": "stream",
     "text": [
      "Performance =  0.6666666666666666\n"
     ]
    }
   ],
   "source": [
    "#Test the neural network\n",
    "\n",
    "#Scorecard for how well the network performs, initially empty\n",
    "scorecard = []\n",
    "\n",
    "#go through all the records in the test data set\n",
    "for record in test_data_list:\n",
    "    #split the record by the ',' commas\n",
    "    all_values = record.split(',')\n",
    "    #correct answer is the first character\n",
    "    correct_label = int(all_values[0])\n",
    "    #print(correct_label, \"correct label\")\n",
    "    #scale and shift the inputs\n",
    "    inputs = (numpy.asfarray(all_values[1:]) / 255.0 * 0.99) + 0.01\n",
    "    #query the network\n",
    "    outputs = n.query(inputs)\n",
    "    #the index of the highest value corresponts to the label\n",
    "    label = numpy.argmax(outputs)\n",
    "    #print(label, \"nework's answer\")\n",
    "    #append correct or incorrect to list\n",
    "    if( label == correct_label):\n",
    "        #network's answer matches correct answer, add 1 to scorecard\n",
    "        scorecard.append(1)\n",
    "    else:\n",
    "        #network's answer didn't match correct answer, add 0 to scorecard\n",
    "        scorecard.append(0)\n",
    "        pass\n",
    "    pass\n",
    "\n",
    "#print(scorecard)\n",
    "\n",
    "#performance score as a fraction\n",
    "scorecard_array = numpy.asarray(scorecard)\n",
    "print(\"Performance = \", scorecard_array.sum() / scorecard_array.size)"
   ]
  },
  {
   "cell_type": "code",
   "execution_count": null,
   "metadata": {},
   "outputs": [],
   "source": []
  }
 ],
 "metadata": {
  "kernelspec": {
   "display_name": "Python 3",
   "language": "python",
   "name": "python3"
  },
  "language_info": {
   "codemirror_mode": {
    "name": "ipython",
    "version": 3
   },
   "file_extension": ".py",
   "mimetype": "text/x-python",
   "name": "python",
   "nbconvert_exporter": "python",
   "pygments_lexer": "ipython3",
   "version": "3.11.9"
  }
 },
 "nbformat": 4,
 "nbformat_minor": 2
}
